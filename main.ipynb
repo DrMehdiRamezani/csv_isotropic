{
 "cells": [
  {
   "cell_type": "code",
   "execution_count": 23,
   "metadata": {},
   "outputs": [
    {
     "name": "stdout",
     "output_type": "stream",
     "text": [
      "['RobotSequence.csv']\n",
      "C:\\Users\\mer\\Documents\\dev\\VSCode_test\\XML_2_CSV\\csv_isotropic\\asset\\RobotSequence.csv\n",
      "Fixed CSV file saved as: C:\\Users\\mer\\Documents\\dev\\VSCode_test\\XML_2_CSV\\csv_isotropic\\asset\\RobotSequence_isotropic.csv\n"
     ]
    }
   ],
   "source": [
    "import pandas as pd\n",
    "import os\n",
    "import glob\n",
    "\n",
    "directory_path = r\"C:\\Users\\mer\\Documents\\dev\\VSCode_test\\XML_2_CSV\\csv_isotropic\\asset\"\n",
    "\n",
    "\n",
    "# Function to read the CSV file and fix the number of columns\n",
    "def fix_csv(file_path):\n",
    "    # Read the CSV file into a DataFrame\n",
    "    df = pd.read_csv(file_path, header=None)\n",
    "\n",
    "    # Find the maximum number of columns in the DataFrame\n",
    "    max_cols = df.apply(lambda row: row.count(), axis=1).max()\n",
    " \n",
    "    # Iterate over each row and add commas to match the maximum number of columns\n",
    "    for index, row in df.iterrows():\n",
    "        if row.count() < max_cols:\n",
    "            row[row.last_valid_index() + 1] = None\n",
    "\n",
    "    # Save the DataFrame to a new CSV file\n",
    "    new_file_path = file_path.split('.')[0] + '_isotropic.csv'\n",
    "    df.to_csv(new_file_path, index=False, header=False)\n",
    "    \n",
    "    print(\"Fixed CSV file saved as:\", new_file_path)\n",
    "\n",
    "# Check if the directory exists\n",
    "if os.path.exists(directory_path):\n",
    "    # Get a list of all files in the directory\n",
    "    files = os.listdir(directory_path)\n",
    "\n",
    "    # Filter out files with \".csv\" extension \n",
    "    csv_files = [file for file in files if file.endswith(\".csv\")]\n",
    "    print(csv_files)\n",
    "    # Process each XML file\n",
    "    for csv_file in csv_files:\n",
    "        file_path = os.path.join(directory_path, csv_file)\n",
    "        print(file_path)\n",
    "\n",
    "        # Call the function to fix the CSV file\n",
    "        fix_csv(file_path)\n",
    "\n",
    "\n",
    "\n",
    "\n",
    "\n"
   ]
  },
  {
   "cell_type": "markdown",
   "metadata": {},
   "source": []
  },
  {
   "cell_type": "code",
   "execution_count": null,
   "metadata": {},
   "outputs": [],
   "source": []
  }
 ],
 "metadata": {
  "kernelspec": {
   "display_name": ".venv",
   "language": "python",
   "name": "python3"
  },
  "language_info": {
   "codemirror_mode": {
    "name": "ipython",
    "version": 3
   },
   "file_extension": ".py",
   "mimetype": "text/x-python",
   "name": "python",
   "nbconvert_exporter": "python",
   "pygments_lexer": "ipython3",
   "version": "3.11.5"
  }
 },
 "nbformat": 4,
 "nbformat_minor": 2
}
